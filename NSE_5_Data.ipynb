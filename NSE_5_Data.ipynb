{
 "cells": [
  {
   "cell_type": "markdown",
   "metadata": {},
   "source": [
    "This project aims to explore the functionalities of the Plotly package and showcase the analysis of stock market trends for five banks over a five-year period, spanning from January 1, 2020, to December 6, 2024."
   ]
  },
  {
   "cell_type": "code",
   "execution_count": 1,
   "metadata": {},
   "outputs": [],
   "source": [
    "# Import required packages\n",
    "import yfinance as yf\n",
    "import pandas as pd\n",
    "import plotly.express as px"
   ]
  },
  {
   "cell_type": "code",
   "execution_count": 2,
   "metadata": {},
   "outputs": [],
   "source": [
    "pd.set_option('display.max_rows', None)\n",
    "pd.set_option('display.max_columns', None)"
   ]
  },
  {
   "cell_type": "code",
   "execution_count": 3,
   "metadata": {},
   "outputs": [
    {
     "name": "stderr",
     "output_type": "stream",
     "text": [
      "[*********************100%***********************]  1 of 1 completed\n",
      "[*********************100%***********************]  1 of 1 completed\n",
      "[*********************100%***********************]  1 of 1 completed\n",
      "[*********************100%***********************]  1 of 1 completed\n",
      "[*********************100%***********************]  1 of 1 completed\n"
     ]
    }
   ],
   "source": [
    "# hdfc bank nse data from 1-jan-2020 to 6-12-2024\n",
    "hdfc_df = yf.download('HDFCBANK.NS', start='2020-01-01', end='2024-12-06')\n",
    "\n",
    "# icici banknse data from 1-jan-2020 to 6-12-2024\n",
    "icici_df = yf.download('ICICIGI.NS', start='2020-01-01', end='2024-12-06')\n",
    "\n",
    "# sbi bank nse data from 1-jan-2020 to 6-12-2024\n",
    "sbi_df = yf.download('SBIN.NS', start='2020-01-01', end='2024-12-06')\n",
    "\n",
    "# axis bank nse data from 1-jan-2020 to 6-12-2024\n",
    "axis_df = yf.download('AXISBANK.NS', start='2020-01-01', end='2024-12-06')\n",
    "\n",
    "# kotak bank nse data from 1-jan-2020 to 6-12-2024\n",
    "kotak_df = yf.download('KOTAKBANK.NS',  start='2020-01-01', end='2024-12-06')"
   ]
  },
  {
   "cell_type": "code",
   "execution_count": 4,
   "metadata": {},
   "outputs": [],
   "source": [
    "# resetting the date index as column \n",
    "\n",
    "hdfc_df[\"Date\"] = hdfc_df.index\n",
    "hdfc_df.reset_index(drop=True, inplace=True)\n",
    "\n",
    "icici_df[\"Date\"] = icici_df.index\n",
    "icici_df.reset_index(drop=True, inplace=True)\n",
    "\n",
    "sbi_df[\"Date\"] = sbi_df.index\n",
    "sbi_df.reset_index(drop=True, inplace=True)\n",
    "\n",
    "axis_df[\"Date\"] = axis_df.index\n",
    "axis_df.reset_index(drop=True, inplace=True)\n",
    "\n",
    "kotak_df[\"Date\"] = kotak_df.index\n",
    "kotak_df.reset_index(drop=True, inplace=True)"
   ]
  },
  {
   "cell_type": "code",
   "execution_count": 5,
   "metadata": {},
   "outputs": [],
   "source": [
    "# hdfc_df.columns.values\n",
    "hdfc_df.columns = [value[0] for value in hdfc_df.columns.values]\n",
    "\n",
    "icici_df.columns = [value[0] for value in icici_df.columns.values]\n",
    "\n",
    "sbi_df.columns = [value[0] for value in sbi_df.columns.values]\n",
    "\n",
    "axis_df.columns = [value[0] for value in axis_df.columns.values]\n",
    "\n",
    "kotak_df.columns = [value[0] for value in kotak_df.columns.values]"
   ]
  },
  {
   "cell_type": "code",
   "execution_count": 6,
   "metadata": {},
   "outputs": [],
   "source": [
    "# creating a new column called stock_name\n",
    "hdfc_df['Stock_Name'] = 'HDFC'\n",
    "\n",
    "icici_df['Stock_Name'] = 'ICICI'\n",
    "\n",
    "sbi_df['Stock_Name'] = 'SBI'\n",
    "\n",
    "axis_df['Stock_Name'] = 'AXIS'\n",
    "\n",
    "kotak_df['Stock_Name'] = 'KOTAK'"
   ]
  },
  {
   "cell_type": "code",
   "execution_count": 7,
   "metadata": {},
   "outputs": [],
   "source": [
    "data_frames = [hdfc_df, icici_df, sbi_df, axis_df, kotak_df]"
   ]
  },
  {
   "cell_type": "code",
   "execution_count": 8,
   "metadata": {},
   "outputs": [
    {
     "data": {
      "text/html": [
       "<div>\n",
       "<style scoped>\n",
       "    .dataframe tbody tr th:only-of-type {\n",
       "        vertical-align: middle;\n",
       "    }\n",
       "\n",
       "    .dataframe tbody tr th {\n",
       "        vertical-align: top;\n",
       "    }\n",
       "\n",
       "    .dataframe thead th {\n",
       "        text-align: right;\n",
       "    }\n",
       "</style>\n",
       "<table border=\"1\" class=\"dataframe\">\n",
       "  <thead>\n",
       "    <tr style=\"text-align: right;\">\n",
       "      <th></th>\n",
       "      <th>Adj Close</th>\n",
       "      <th>Close</th>\n",
       "      <th>High</th>\n",
       "      <th>Low</th>\n",
       "      <th>Open</th>\n",
       "      <th>Volume</th>\n",
       "      <th>Date</th>\n",
       "      <th>Stock_Name</th>\n",
       "    </tr>\n",
       "  </thead>\n",
       "  <tbody>\n",
       "    <tr>\n",
       "      <th>0</th>\n",
       "      <td>1227.428589</td>\n",
       "      <td>1278.599976</td>\n",
       "      <td>1280.0</td>\n",
       "      <td>1270.599976</td>\n",
       "      <td>1276.099976</td>\n",
       "      <td>1836849</td>\n",
       "      <td>2020-01-01</td>\n",
       "      <td>HDFC</td>\n",
       "    </tr>\n",
       "    <tr>\n",
       "      <th>1</th>\n",
       "      <td>1235.252441</td>\n",
       "      <td>1286.750000</td>\n",
       "      <td>1288.0</td>\n",
       "      <td>1279.000000</td>\n",
       "      <td>1279.000000</td>\n",
       "      <td>3068583</td>\n",
       "      <td>2020-01-02</td>\n",
       "      <td>HDFC</td>\n",
       "    </tr>\n",
       "    <tr>\n",
       "      <th>2</th>\n",
       "      <td>1217.636841</td>\n",
       "      <td>1268.400024</td>\n",
       "      <td>1285.0</td>\n",
       "      <td>1263.599976</td>\n",
       "      <td>1282.199951</td>\n",
       "      <td>5427775</td>\n",
       "      <td>2020-01-03</td>\n",
       "      <td>HDFC</td>\n",
       "    </tr>\n",
       "  </tbody>\n",
       "</table>\n",
       "</div>"
      ],
      "text/plain": [
       "     Adj Close        Close    High          Low         Open   Volume  \\\n",
       "0  1227.428589  1278.599976  1280.0  1270.599976  1276.099976  1836849   \n",
       "1  1235.252441  1286.750000  1288.0  1279.000000  1279.000000  3068583   \n",
       "2  1217.636841  1268.400024  1285.0  1263.599976  1282.199951  5427775   \n",
       "\n",
       "        Date Stock_Name  \n",
       "0 2020-01-01       HDFC  \n",
       "1 2020-01-02       HDFC  \n",
       "2 2020-01-03       HDFC  "
      ]
     },
     "execution_count": 8,
     "metadata": {},
     "output_type": "execute_result"
    }
   ],
   "source": [
    "# concat the 5 stocks dataframes\n",
    "stocks_5_data = pd.concat(data_frames)\n",
    "stocks_5_data.head(3)"
   ]
  },
  {
   "cell_type": "code",
   "execution_count": 9,
   "metadata": {},
   "outputs": [],
   "source": [
    "# creating columns for year, date , month , day_of_week etc..\n",
    "stocks_5_data['Year'] = stocks_5_data['Date'].dt.year\n",
    "stocks_5_data['Month'] = stocks_5_data['Date'].dt.month\n",
    "stocks_5_data['Day'] = stocks_5_data['Date'].dt.day\n",
    "stocks_5_data['Day_of_week'] = stocks_5_data['Date'].dt.day_of_week"
   ]
  },
  {
   "cell_type": "code",
   "execution_count": 10,
   "metadata": {},
   "outputs": [
    {
     "name": "stdout",
     "output_type": "stream",
     "text": [
      "<class 'pandas.core.frame.DataFrame'>\n",
      "Index: 6105 entries, 0 to 1220\n",
      "Data columns (total 12 columns):\n",
      " #   Column       Non-Null Count  Dtype         \n",
      "---  ------       --------------  -----         \n",
      " 0   Adj Close    6105 non-null   float64       \n",
      " 1   Close        6105 non-null   float64       \n",
      " 2   High         6105 non-null   float64       \n",
      " 3   Low          6105 non-null   float64       \n",
      " 4   Open         6105 non-null   float64       \n",
      " 5   Volume       6105 non-null   int64         \n",
      " 6   Date         6105 non-null   datetime64[ns]\n",
      " 7   Stock_Name   6105 non-null   object        \n",
      " 8   Year         6105 non-null   int32         \n",
      " 9   Month        6105 non-null   int32         \n",
      " 10  Day          6105 non-null   int32         \n",
      " 11  Day_of_week  6105 non-null   int32         \n",
      "dtypes: datetime64[ns](1), float64(5), int32(4), int64(1), object(1)\n",
      "memory usage: 524.6+ KB\n"
     ]
    }
   ],
   "source": [
    "stocks_5_data.info()"
   ]
  },
  {
   "cell_type": "code",
   "execution_count": 11,
   "metadata": {},
   "outputs": [
    {
     "data": {
      "text/html": [
       "<div>\n",
       "<style scoped>\n",
       "    .dataframe tbody tr th:only-of-type {\n",
       "        vertical-align: middle;\n",
       "    }\n",
       "\n",
       "    .dataframe tbody tr th {\n",
       "        vertical-align: top;\n",
       "    }\n",
       "\n",
       "    .dataframe thead th {\n",
       "        text-align: right;\n",
       "    }\n",
       "</style>\n",
       "<table border=\"1\" class=\"dataframe\">\n",
       "  <thead>\n",
       "    <tr style=\"text-align: right;\">\n",
       "      <th></th>\n",
       "      <th>Adj Close</th>\n",
       "      <th>Close</th>\n",
       "      <th>High</th>\n",
       "      <th>Low</th>\n",
       "      <th>Open</th>\n",
       "      <th>Volume</th>\n",
       "      <th>Date</th>\n",
       "      <th>Stock_Name</th>\n",
       "      <th>Year</th>\n",
       "      <th>Month</th>\n",
       "      <th>Day</th>\n",
       "      <th>Day_of_week</th>\n",
       "    </tr>\n",
       "  </thead>\n",
       "  <tbody>\n",
       "    <tr>\n",
       "      <th>0</th>\n",
       "      <td>1227.428589</td>\n",
       "      <td>1278.599976</td>\n",
       "      <td>1280.0</td>\n",
       "      <td>1270.599976</td>\n",
       "      <td>1276.099976</td>\n",
       "      <td>1836849</td>\n",
       "      <td>2020-01-01</td>\n",
       "      <td>HDFC</td>\n",
       "      <td>2020</td>\n",
       "      <td>1</td>\n",
       "      <td>1</td>\n",
       "      <td>2</td>\n",
       "    </tr>\n",
       "    <tr>\n",
       "      <th>1</th>\n",
       "      <td>1235.252441</td>\n",
       "      <td>1286.750000</td>\n",
       "      <td>1288.0</td>\n",
       "      <td>1279.000000</td>\n",
       "      <td>1279.000000</td>\n",
       "      <td>3068583</td>\n",
       "      <td>2020-01-02</td>\n",
       "      <td>HDFC</td>\n",
       "      <td>2020</td>\n",
       "      <td>1</td>\n",
       "      <td>2</td>\n",
       "      <td>3</td>\n",
       "    </tr>\n",
       "    <tr>\n",
       "      <th>2</th>\n",
       "      <td>1217.636841</td>\n",
       "      <td>1268.400024</td>\n",
       "      <td>1285.0</td>\n",
       "      <td>1263.599976</td>\n",
       "      <td>1282.199951</td>\n",
       "      <td>5427775</td>\n",
       "      <td>2020-01-03</td>\n",
       "      <td>HDFC</td>\n",
       "      <td>2020</td>\n",
       "      <td>1</td>\n",
       "      <td>3</td>\n",
       "      <td>4</td>\n",
       "    </tr>\n",
       "  </tbody>\n",
       "</table>\n",
       "</div>"
      ],
      "text/plain": [
       "     Adj Close        Close    High          Low         Open   Volume  \\\n",
       "0  1227.428589  1278.599976  1280.0  1270.599976  1276.099976  1836849   \n",
       "1  1235.252441  1286.750000  1288.0  1279.000000  1279.000000  3068583   \n",
       "2  1217.636841  1268.400024  1285.0  1263.599976  1282.199951  5427775   \n",
       "\n",
       "        Date Stock_Name  Year  Month  Day  Day_of_week  \n",
       "0 2020-01-01       HDFC  2020      1    1            2  \n",
       "1 2020-01-02       HDFC  2020      1    2            3  \n",
       "2 2020-01-03       HDFC  2020      1    3            4  "
      ]
     },
     "execution_count": 11,
     "metadata": {},
     "output_type": "execute_result"
    }
   ],
   "source": [
    "stocks_5_data.head(3)"
   ]
  },
  {
   "cell_type": "code",
   "execution_count": 12,
   "metadata": {},
   "outputs": [
    {
     "name": "stdout",
     "output_type": "stream",
     "text": [
      "5.10.4\n"
     ]
    }
   ],
   "source": [
    "# print the current nbformat version\n",
    "import nbformat\n",
    "print(nbformat.__version__)\n"
   ]
  },
  {
   "cell_type": "code",
   "execution_count": 13,
   "metadata": {},
   "outputs": [],
   "source": [
    "# sets the default renderer for Plotly visualizations to open in the web browser, in vs_code weh should do like this\n",
    "import plotly.io as pio\n",
    "pio.renderers.default = 'browser'"
   ]
  },
  {
   "cell_type": "code",
   "execution_count": 14,
   "metadata": {},
   "outputs": [],
   "source": [
    "# closing prices of different stocks change over the years\n",
    "\n",
    "fig = px.bar(stocks_5_data, x=\"Stock_Name\", y=\"Close\", color=\"Stock_Name\",animation_frame=\"Year\", range_y=[0,500000], hover_data=['Day','Month'])\n",
    "fig.show()\n"
   ]
  },
  {
   "cell_type": "code",
   "execution_count": null,
   "metadata": {},
   "outputs": [],
   "source": [
    "# fig1 = px.scatter_3d(stocks_5_data, x=\"Year\", y=\"Month\", z='Volume')\n",
    "# fig1.show()"
   ]
  }
 ],
 "metadata": {
  "kernelspec": {
   "display_name": "ds_practice",
   "language": "python",
   "name": "python3"
  },
  "language_info": {
   "codemirror_mode": {
    "name": "ipython",
    "version": 3
   },
   "file_extension": ".py",
   "mimetype": "text/x-python",
   "name": "python",
   "nbconvert_exporter": "python",
   "pygments_lexer": "ipython3",
   "version": "3.12.2"
  }
 },
 "nbformat": 4,
 "nbformat_minor": 2
}
