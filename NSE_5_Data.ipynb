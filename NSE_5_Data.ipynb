{
 "cells": [
  {
   "cell_type": "markdown",
   "metadata": {},
   "source": [
    "**This project aims to explore the functionalities of the Plotly package and showcase the analysis of stock market trends for five banks over a five-year period, spanning from January 1, 2020, to December 6, 2024.**"
   ]
  },
  {
   "cell_type": "code",
   "execution_count": null,
   "metadata": {},
   "outputs": [],
   "source": [
    "# Import required packages\n",
    "import yfinance as yf   # For fetching stock market data\n",
    "import pandas as pd     # For data manipulation and analysis\n",
    "import plotly.express as px   # For creating interactive visualizations"
   ]
  },
  {
   "cell_type": "code",
   "execution_count": null,
   "metadata": {},
   "outputs": [],
   "source": [
    "# Set Pandas options to display all rows and columns in the DataFrame\n",
    "pd.set_option('display.max_rows', None)\n",
    "pd.set_option('display.max_columns', None)"
   ]
  },
  {
   "cell_type": "code",
   "execution_count": 3,
   "metadata": {},
   "outputs": [
    {
     "name": "stderr",
     "output_type": "stream",
     "text": [
      "[*********************100%***********************]  1 of 1 completed\n",
      "[*********************100%***********************]  1 of 1 completed\n",
      "[*********************100%***********************]  1 of 1 completed\n",
      "[*********************100%***********************]  1 of 1 completed\n",
      "[*********************100%***********************]  1 of 1 completed\n"
     ]
    }
   ],
   "source": [
    "# hdfc bank nse data from 1-jan-2020 to 6-12-2024\n",
    "hdfc_df = yf.download('HDFCBANK.NS', start='2020-01-01', end='2024-12-06')\n",
    "\n",
    "# icici banknse data from 1-jan-2020 to 6-12-2024\n",
    "icici_df = yf.download('ICICIGI.NS', start='2020-01-01', end='2024-12-06')\n",
    "\n",
    "# sbi bank nse data from 1-jan-2020 to 6-12-2024\n",
    "sbi_df = yf.download('SBIN.NS', start='2020-01-01', end='2024-12-06')\n",
    "\n",
    "# axis bank nse data from 1-jan-2020 to 6-12-2024\n",
    "axis_df = yf.download('AXISBANK.NS', start='2020-01-01', end='2024-12-06')\n",
    "\n",
    "# kotak bank nse data from 1-jan-2020 to 6-12-2024\n",
    "kotak_df = yf.download('KOTAKBANK.NS',  start='2020-01-01', end='2024-12-06')"
   ]
  },
  {
   "cell_type": "code",
   "execution_count": null,
   "metadata": {},
   "outputs": [],
   "source": [
    "# resetting the date index as column for hdfc_df, icici_df, sbi_df, axis_df, kotak_df datasets\n",
    "\n",
    "hdfc_df[\"Date\"] = hdfc_df.index\n",
    "hdfc_df.reset_index(drop=True, inplace=True)\n",
    "\n",
    "icici_df[\"Date\"] = icici_df.index\n",
    "icici_df.reset_index(drop=True, inplace=True)\n",
    "\n",
    "sbi_df[\"Date\"] = sbi_df.index\n",
    "sbi_df.reset_index(drop=True, inplace=True)\n",
    "\n",
    "axis_df[\"Date\"] = axis_df.index\n",
    "axis_df.reset_index(drop=True, inplace=True)\n",
    "\n",
    "kotak_df[\"Date\"] = kotak_df.index\n",
    "kotak_df.reset_index(drop=True, inplace=True)"
   ]
  },
  {
   "cell_type": "code",
   "execution_count": null,
   "metadata": {},
   "outputs": [],
   "source": [
    "# Rename columns for each DataFrame by extracting the first element of the column name tuples\n",
    "\n",
    "hdfc_df.columns = [value[0] for value in hdfc_df.columns.values]\n",
    "\n",
    "icici_df.columns = [value[0] for value in icici_df.columns.values]\n",
    "\n",
    "sbi_df.columns = [value[0] for value in sbi_df.columns.values]\n",
    "\n",
    "axis_df.columns = [value[0] for value in axis_df.columns.values]\n",
    "\n",
    "kotak_df.columns = [value[0] for value in kotak_df.columns.values]"
   ]
  },
  {
   "cell_type": "code",
   "execution_count": null,
   "metadata": {},
   "outputs": [],
   "source": [
    "# Creating a new column 'Stock_Name' to identify each DataFrame's stock\n",
    "\n",
    "hdfc_df['Stock_Name'] = 'HDFC'\n",
    "\n",
    "icici_df['Stock_Name'] = 'ICICI'\n",
    "\n",
    "sbi_df['Stock_Name'] = 'SBI'\n",
    "\n",
    "axis_df['Stock_Name'] = 'AXIS'\n",
    "\n",
    "kotak_df['Stock_Name'] = 'KOTAK'"
   ]
  },
  {
   "cell_type": "code",
   "execution_count": null,
   "metadata": {},
   "outputs": [],
   "source": [
    "# Combine individual bank DataFrames into a list for further processing\n",
    "\n",
    "data_frames = [hdfc_df, icici_df, sbi_df, axis_df, kotak_df]"
   ]
  },
  {
   "cell_type": "code",
   "execution_count": null,
   "metadata": {},
   "outputs": [
    {
     "data": {
      "text/html": [
       "<div>\n",
       "<style scoped>\n",
       "    .dataframe tbody tr th:only-of-type {\n",
       "        vertical-align: middle;\n",
       "    }\n",
       "\n",
       "    .dataframe tbody tr th {\n",
       "        vertical-align: top;\n",
       "    }\n",
       "\n",
       "    .dataframe thead th {\n",
       "        text-align: right;\n",
       "    }\n",
       "</style>\n",
       "<table border=\"1\" class=\"dataframe\">\n",
       "  <thead>\n",
       "    <tr style=\"text-align: right;\">\n",
       "      <th></th>\n",
       "      <th>Adj Close</th>\n",
       "      <th>Close</th>\n",
       "      <th>High</th>\n",
       "      <th>Low</th>\n",
       "      <th>Open</th>\n",
       "      <th>Volume</th>\n",
       "      <th>Date</th>\n",
       "      <th>Stock_Name</th>\n",
       "    </tr>\n",
       "  </thead>\n",
       "  <tbody>\n",
       "    <tr>\n",
       "      <th>0</th>\n",
       "      <td>1227.428589</td>\n",
       "      <td>1278.599976</td>\n",
       "      <td>1280.0</td>\n",
       "      <td>1270.599976</td>\n",
       "      <td>1276.099976</td>\n",
       "      <td>1836849</td>\n",
       "      <td>2020-01-01</td>\n",
       "      <td>HDFC</td>\n",
       "    </tr>\n",
       "    <tr>\n",
       "      <th>1</th>\n",
       "      <td>1235.252441</td>\n",
       "      <td>1286.750000</td>\n",
       "      <td>1288.0</td>\n",
       "      <td>1279.000000</td>\n",
       "      <td>1279.000000</td>\n",
       "      <td>3068583</td>\n",
       "      <td>2020-01-02</td>\n",
       "      <td>HDFC</td>\n",
       "    </tr>\n",
       "    <tr>\n",
       "      <th>2</th>\n",
       "      <td>1217.636841</td>\n",
       "      <td>1268.400024</td>\n",
       "      <td>1285.0</td>\n",
       "      <td>1263.599976</td>\n",
       "      <td>1282.199951</td>\n",
       "      <td>5427775</td>\n",
       "      <td>2020-01-03</td>\n",
       "      <td>HDFC</td>\n",
       "    </tr>\n",
       "  </tbody>\n",
       "</table>\n",
       "</div>"
      ],
      "text/plain": [
       "     Adj Close        Close    High          Low         Open   Volume  \\\n",
       "0  1227.428589  1278.599976  1280.0  1270.599976  1276.099976  1836849   \n",
       "1  1235.252441  1286.750000  1288.0  1279.000000  1279.000000  3068583   \n",
       "2  1217.636841  1268.400024  1285.0  1263.599976  1282.199951  5427775   \n",
       "\n",
       "        Date Stock_Name  \n",
       "0 2020-01-01       HDFC  \n",
       "1 2020-01-02       HDFC  \n",
       "2 2020-01-03       HDFC  "
      ]
     },
     "execution_count": 8,
     "metadata": {},
     "output_type": "execute_result"
    }
   ],
   "source": [
    "# Concat the five stocks DataFrames\n",
    "stocks_5_data = pd.concat(data_frames)\n",
    "stocks_5_data.head(3)"
   ]
  },
  {
   "cell_type": "code",
   "execution_count": null,
   "metadata": {},
   "outputs": [],
   "source": [
    "# Creating columns for year, month, day, and day of the week from the 'Date' column\n",
    "\n",
    "stocks_5_data['Year'] = stocks_5_data['Date'].dt.year\n",
    "stocks_5_data['Month'] = stocks_5_data['Date'].dt.month\n",
    "stocks_5_data['Day'] = stocks_5_data['Date'].dt.day\n",
    "stocks_5_data['Day_of_week'] = stocks_5_data['Date'].dt.day_of_week"
   ]
  },
  {
   "cell_type": "code",
   "execution_count": 10,
   "metadata": {},
   "outputs": [
    {
     "name": "stdout",
     "output_type": "stream",
     "text": [
      "<class 'pandas.core.frame.DataFrame'>\n",
      "Index: 6105 entries, 0 to 1220\n",
      "Data columns (total 12 columns):\n",
      " #   Column       Non-Null Count  Dtype         \n",
      "---  ------       --------------  -----         \n",
      " 0   Adj Close    6105 non-null   float64       \n",
      " 1   Close        6105 non-null   float64       \n",
      " 2   High         6105 non-null   float64       \n",
      " 3   Low          6105 non-null   float64       \n",
      " 4   Open         6105 non-null   float64       \n",
      " 5   Volume       6105 non-null   int64         \n",
      " 6   Date         6105 non-null   datetime64[ns]\n",
      " 7   Stock_Name   6105 non-null   object        \n",
      " 8   Year         6105 non-null   int32         \n",
      " 9   Month        6105 non-null   int32         \n",
      " 10  Day          6105 non-null   int32         \n",
      " 11  Day_of_week  6105 non-null   int32         \n",
      "dtypes: datetime64[ns](1), float64(5), int32(4), int64(1), object(1)\n",
      "memory usage: 524.6+ KB\n"
     ]
    }
   ],
   "source": [
    "stocks_5_data.info()"
   ]
  },
  {
   "cell_type": "code",
   "execution_count": 11,
   "metadata": {},
   "outputs": [
    {
     "data": {
      "text/html": [
       "<div>\n",
       "<style scoped>\n",
       "    .dataframe tbody tr th:only-of-type {\n",
       "        vertical-align: middle;\n",
       "    }\n",
       "\n",
       "    .dataframe tbody tr th {\n",
       "        vertical-align: top;\n",
       "    }\n",
       "\n",
       "    .dataframe thead th {\n",
       "        text-align: right;\n",
       "    }\n",
       "</style>\n",
       "<table border=\"1\" class=\"dataframe\">\n",
       "  <thead>\n",
       "    <tr style=\"text-align: right;\">\n",
       "      <th></th>\n",
       "      <th>Adj Close</th>\n",
       "      <th>Close</th>\n",
       "      <th>High</th>\n",
       "      <th>Low</th>\n",
       "      <th>Open</th>\n",
       "      <th>Volume</th>\n",
       "      <th>Date</th>\n",
       "      <th>Stock_Name</th>\n",
       "      <th>Year</th>\n",
       "      <th>Month</th>\n",
       "      <th>Day</th>\n",
       "      <th>Day_of_week</th>\n",
       "    </tr>\n",
       "  </thead>\n",
       "  <tbody>\n",
       "    <tr>\n",
       "      <th>0</th>\n",
       "      <td>1227.428589</td>\n",
       "      <td>1278.599976</td>\n",
       "      <td>1280.0</td>\n",
       "      <td>1270.599976</td>\n",
       "      <td>1276.099976</td>\n",
       "      <td>1836849</td>\n",
       "      <td>2020-01-01</td>\n",
       "      <td>HDFC</td>\n",
       "      <td>2020</td>\n",
       "      <td>1</td>\n",
       "      <td>1</td>\n",
       "      <td>2</td>\n",
       "    </tr>\n",
       "    <tr>\n",
       "      <th>1</th>\n",
       "      <td>1235.252441</td>\n",
       "      <td>1286.750000</td>\n",
       "      <td>1288.0</td>\n",
       "      <td>1279.000000</td>\n",
       "      <td>1279.000000</td>\n",
       "      <td>3068583</td>\n",
       "      <td>2020-01-02</td>\n",
       "      <td>HDFC</td>\n",
       "      <td>2020</td>\n",
       "      <td>1</td>\n",
       "      <td>2</td>\n",
       "      <td>3</td>\n",
       "    </tr>\n",
       "    <tr>\n",
       "      <th>2</th>\n",
       "      <td>1217.636841</td>\n",
       "      <td>1268.400024</td>\n",
       "      <td>1285.0</td>\n",
       "      <td>1263.599976</td>\n",
       "      <td>1282.199951</td>\n",
       "      <td>5427775</td>\n",
       "      <td>2020-01-03</td>\n",
       "      <td>HDFC</td>\n",
       "      <td>2020</td>\n",
       "      <td>1</td>\n",
       "      <td>3</td>\n",
       "      <td>4</td>\n",
       "    </tr>\n",
       "  </tbody>\n",
       "</table>\n",
       "</div>"
      ],
      "text/plain": [
       "     Adj Close        Close    High          Low         Open   Volume  \\\n",
       "0  1227.428589  1278.599976  1280.0  1270.599976  1276.099976  1836849   \n",
       "1  1235.252441  1286.750000  1288.0  1279.000000  1279.000000  3068583   \n",
       "2  1217.636841  1268.400024  1285.0  1263.599976  1282.199951  5427775   \n",
       "\n",
       "        Date Stock_Name  Year  Month  Day  Day_of_week  \n",
       "0 2020-01-01       HDFC  2020      1    1            2  \n",
       "1 2020-01-02       HDFC  2020      1    2            3  \n",
       "2 2020-01-03       HDFC  2020      1    3            4  "
      ]
     },
     "execution_count": 11,
     "metadata": {},
     "output_type": "execute_result"
    }
   ],
   "source": [
    "stocks_5_data.head(3)"
   ]
  },
  {
   "cell_type": "code",
   "execution_count": 39,
   "metadata": {},
   "outputs": [],
   "source": [
    "stocks_5_data.to_csv('stock_data.csv')"
   ]
  },
  {
   "cell_type": "code",
   "execution_count": 13,
   "metadata": {},
   "outputs": [
    {
     "name": "stdout",
     "output_type": "stream",
     "text": [
      "5.10.4\n"
     ]
    }
   ],
   "source": [
    "# print the current nbformat version\n",
    "import nbformat\n",
    "print(nbformat.__version__)\n"
   ]
  },
  {
   "cell_type": "code",
   "execution_count": null,
   "metadata": {},
   "outputs": [],
   "source": [
    "# Set the default renderer to 'browser' for displaying Plotly charts in the web browser Use this setting in VS Code to ensure visualizations open in the browser, especially if inline rendering is not supported in the IDE.\n",
    "import plotly.io as pio\n",
    "pio.renderers.default = 'browser'"
   ]
  },
  {
   "cell_type": "code",
   "execution_count": null,
   "metadata": {},
   "outputs": [],
   "source": [
    "# 1. This code creates an animated bar chart showing how the closing prices of different stocks vary year by year, with additional day and month details on hover\n",
    "\n",
    "fig = px.bar(stocks_5_data, x=\"Stock_Name\", y=\"Close\", color=\"Stock_Name\",animation_frame=\"Year\", range_y=[0,500000], hover_data=['Day','Month'], template='plotly_white')\n",
    "fig.show()\n"
   ]
  },
  {
   "cell_type": "code",
   "execution_count": null,
   "metadata": {},
   "outputs": [],
   "source": [
    "# 2. This code generates an animated bar chart illustrating daily variations in the closing prices of different stocks, with day and month details displayed on hover\n",
    "\n",
    "fig = px.bar(stocks_5_data, x=\"Stock_Name\", y=\"Close\", color=\"Stock_Name\",animation_frame=\"Date\", range_y=[0,stocks_5_data['Close'].max()], hover_data=['Day','Month'], template='plotly_white')\n",
    "fig.show()"
   ]
  },
  {
   "cell_type": "code",
   "execution_count": null,
   "metadata": {},
   "outputs": [],
   "source": [
    "# 3. This code creates a bar chart showing the average closing price of stocks for each day of the week, providing insights into weekday performance trends\n",
    "avg_close_by_day = stocks_5_data.groupby('Day_of_week')['Close'].mean().reset_index()\n",
    "\n",
    "fig4 = px.bar(avg_close_by_day, x='Day_of_week', y='Close', title='Average Closing Price by Day of the Week', labels={'Day_of_week': 'Day of Week', 'Close': 'Average Closing Price'})\n",
    "fig4.show()"
   ]
  },
  {
   "cell_type": "code",
   "execution_count": null,
   "metadata": {},
   "outputs": [],
   "source": [
    "test = stocks_5_data.groupby(['Stock_Name', 'Year'])['Volume'].mean().reset_index()\n",
    "test"
   ]
  },
  {
   "cell_type": "code",
   "execution_count": null,
   "metadata": {},
   "outputs": [],
   "source": [
    "# 4. This code creates an animated bar chart to visualize the average trading volume of each stock over the years, highlighting year-wise trends and stock-specific comparisons.\n",
    "\n",
    "animated_data = stocks_5_data.groupby(['Stock_Name', 'Year'])['Volume'].mean().reset_index()\n",
    "\n",
    "fig5 = px.bar(animated_data, x='Stock_Name', y='Volume', title='Average Trading Volume by Stock Over Years', labels={'Volume': 'Average Volume', 'Stock_Name': 'Stock'}, color='Stock_Name', animation_frame='Year',  text='Volume', range_y=[0,62000000])\n",
    "fig5.show()\n"
   ]
  },
  {
   "cell_type": "code",
   "execution_count": null,
   "metadata": {},
   "outputs": [],
   "source": [
    "# 5. This code creates a box plot to compare the distribution of high and low prices for different stocks, highlighting price variability across stocks\n",
    "\n",
    "price_data = stocks_5_data.melt(id_vars=['Stock_Name'], value_vars=['High', 'Low'], var_name='Price_Type', value_name='Price')\n",
    "\n",
    "fig3 = px.box(price_data, x='Stock_Name', y='Price', color='Price_Type', title='High vs. Low Prices Across Stocks',labels={'Price': 'Price', 'Stock_Name': 'Stock'})\n",
    "fig3.show()\n"
   ]
  },
  {
   "cell_type": "code",
   "execution_count": null,
   "metadata": {},
   "outputs": [],
   "source": [
    "# This code calculates the average weekly closing price for each day across years and maps numeric days to their weekday names, providing insights into weekday-specific trends over time\n",
    "\n",
    "weekly_avg_per_year = stocks_5_data.groupby(['Year', 'Day_of_week']).agg({'Close': 'mean'}).reset_index()\n",
    "\n",
    "day_map = {0: 'Monday', 1: 'Tuesday', 2: 'Wednesday', 3: 'Thursday', 4: 'Friday', 5: 'Saturday', 6: 'Sunday'}\n",
    "weekly_avg_per_year['Day_of_week'] = weekly_avg_per_year['Day_of_week'].map(day_map)"
   ]
  },
  {
   "cell_type": "code",
   "execution_count": null,
   "metadata": {},
   "outputs": [],
   "source": [
    "# 6. This code creates a line chart to visualize and compare average weekly closing prices for each day across multiple years, highlighting trends and variations over weekdays.\n",
    "\n",
    "fig_line = px.line(weekly_avg_per_year, x='Day_of_week', y='Close', color='Year', title='Average Weekly Closing Value for Each Year', labels={'Close': 'Avg Closing Value', 'Day_of_week': 'Day of Week', 'Year': 'Year'}, markers=True)\n",
    "fig_line.update_layout(xaxis=dict(categoryorder='array', categoryarray=list(day_map.values())))\n",
    "fig_line.show()"
   ]
  },
  {
   "cell_type": "code",
   "execution_count": null,
   "metadata": {},
   "outputs": [],
   "source": [
    "# 7. This code creates a grouped bar chart to compare the average weekly closing prices for each day of the week across multiple years, emphasizing year-wise variations for each weekday.\n",
    "\n",
    "fig_bar = px.bar(weekly_avg_per_year, x='Day_of_week', y='Close', color='Year', barmode='group', title='Average Weekly Closing Value (Grouped by Year)', labels={'Close': 'Avg Closing Value', 'Day_of_week': 'Day of Week', 'Year': 'Year'})\n",
    "fig_bar.update_layout(xaxis=dict(categoryorder='array', categoryarray=list(day_map.values())))\n",
    "fig_bar.show()"
   ]
  }
 ],
 "metadata": {
  "kernelspec": {
   "display_name": "ds_practice",
   "language": "python",
   "name": "python3"
  },
  "language_info": {
   "codemirror_mode": {
    "name": "ipython",
    "version": 3
   },
   "file_extension": ".py",
   "mimetype": "text/x-python",
   "name": "python",
   "nbconvert_exporter": "python",
   "pygments_lexer": "ipython3",
   "version": "3.12.2"
  }
 },
 "nbformat": 4,
 "nbformat_minor": 2
}
